{
 "cells": [
  {
   "cell_type": "markdown",
   "id": "afdac744",
   "metadata": {},
   "source": [
    "# Linear Regression using Scikit-Learn"
   ]
  },
  {
   "cell_type": "markdown",
   "id": "daf59edf",
   "metadata": {},
   "source": [
    "There is an open-source, commercially usable machine learning toolkit called [scikit-learn](https://scikit-learn.org/stable/index.html). This toolkit contains implementations of many of the algorithms that you will work with in this course.\n",
    "\n"
   ]
  },
  {
   "cell_type": "markdown",
   "id": "4d0ecf19",
   "metadata": {},
   "source": [
    "## Goals\n",
    "In this notebook we will:\n",
    "- Utilize  scikit-learn to implement linear regression using Gradient Descent"
   ]
  },
  {
   "cell_type": "markdown",
   "id": "59d4e6ae",
   "metadata": {},
   "source": [
    "## Tools\n",
    "We will utilize functions from scikit-learn as well as matplotlib and NumPy. "
   ]
  },
  {
   "cell_type": "markdown",
   "id": "1e7a78c9-718a-439a-8a99-09d43ce06f13",
   "metadata": {},
   "source": [
    "install scikit-learn first"
   ]
  },
  {
   "cell_type": "code",
   "execution_count": 1,
   "id": "01715a6e",
   "metadata": {},
   "outputs": [],
   "source": [
    "import numpy as np\n",
    "import matplotlib.pyplot as plt\n",
    "from sklearn.linear_model import SGDRegressor\n",
    "from sklearn.preprocessing import StandardScaler\n",
    "from lab_utils_multi import  load_house_data\n",
    "from lab_utils_common import dlc\n",
    "np.set_printoptions(precision=2)\n",
    "plt.style.use('./deeplearning.mplstyle')"
   ]
  },
  {
   "cell_type": "markdown",
   "id": "163f91d4-7555-4321-986f-a12ec84bd8ff",
   "metadata": {},
   "source": [
    "np.set_printpoints() Set the print precision for numpy arrays and use a specific plotting style."
   ]
  },
  {
   "cell_type": "markdown",
   "id": "dde19dbd",
   "metadata": {},
   "source": [
    "# Gradient Descent\n",
    "Scikit-learn has a gradient descent regression model [sklearn.linear_model.SGDRegressor](https://scikit-learn.org/stable/modules/generated/sklearn.linear_model.SGDRegressor.html#examples-using-sklearn-linear-model-sgdregressor).  Like our previous implementation of gradient descent, this model performs best with normalized inputs. [sklearn.preprocessing.StandardScaler](https://scikit-learn.org/stable/modules/generated/sklearn.preprocessing.StandardScaler.html#sklearn.preprocessing.StandardScaler) will perform z-score normalization as in a previous notebook. Here it is referred to as 'standard score'."
   ]
  },
  {
   "cell_type": "markdown",
   "id": "14c062a7",
   "metadata": {},
   "source": [
    "### Load the data set"
   ]
  },
  {
   "cell_type": "code",
   "execution_count": 2,
   "id": "3ea668e7",
   "metadata": {},
   "outputs": [],
   "source": [
    "X_train, y_train = load_house_data()\n",
    "X_features = ['size(sqft)','bedrooms','floors','age']"
   ]
  },
  {
   "cell_type": "markdown",
   "id": "5a7a7166",
   "metadata": {},
   "source": [
    "### Scale/normalize the training data"
   ]
  },
  {
   "cell_type": "markdown",
   "id": "bc74190b-7077-483f-9d9e-89e71e0d3614",
   "metadata": {},
   "source": [
    "Print the range of the original and normalized data to show the effect of normalization."
   ]
  },
  {
   "cell_type": "markdown",
   "id": "65b8aff6-b416-495f-856a-7a6cd838cd53",
   "metadata": {},
   "source": [
    "np.ptp is a function in the NumPy library that stands for \"peak-to-peak.\" It calculates the range of values (i.e., the difference between the maximum and minimum values) along a specified axis of an array."
   ]
  },
  {
   "cell_type": "code",
   "execution_count": 4,
   "id": "6a2f5aa6",
   "metadata": {},
   "outputs": [
    {
     "name": "stdout",
     "output_type": "stream",
     "text": [
      "Peak to Peak range by column in Raw        X:[2.41e+03 4.00e+00 1.00e+00 9.50e+01]\n",
      "Peak to Peak range by column in Normalized X:[5.85 6.14 2.06 3.69]\n"
     ]
    }
   ],
   "source": [
    "scaler = StandardScaler()\n",
    "X_norm = scaler.fit_transform(X_train)\n",
    "print(f\"Peak to Peak range by column in Raw        X:{np.ptp(X_train,axis=0)}\")   \n",
    "print(f\"Peak to Peak range by column in Normalized X:{np.ptp(X_norm,axis=0)}\")"
   ]
  },
  {
   "cell_type": "markdown",
   "id": "836f3ac5",
   "metadata": {},
   "source": [
    "### Create and fit the regression model (Training the model; Gradient Descent; finding values of w and b)"
   ]
  },
  {
   "cell_type": "markdown",
   "id": "8432d868-63f2-4387-8391-fa4cf19040d7",
   "metadata": {},
   "source": [
    "Create an instance of SGDRegressor and train it on the normalized data."
   ]
  },
  {
   "cell_type": "code",
   "execution_count": 5,
   "id": "5231eaf6",
   "metadata": {},
   "outputs": [
    {
     "name": "stdout",
     "output_type": "stream",
     "text": [
      "SGDRegressor()\n",
      "number of iterations completed: 119, number of weight updates: 11782.0\n"
     ]
    }
   ],
   "source": [
    "sgdr = SGDRegressor(max_iter=1000)\n",
    "sgdr.fit(X_norm, y_train)\n",
    "print(sgdr)\n",
    "print(f\"number of iterations completed: {sgdr.n_iter_}, number of weight updates: {sgdr.t_}\")"
   ]
  },
  {
   "cell_type": "markdown",
   "id": "64aaf366",
   "metadata": {},
   "source": [
    "### View parameters\n",
    "Note, the parameters are associated with the *normalized* input data. The fit parameters are very close to those found in the previous notebook with this data."
   ]
  },
  {
   "cell_type": "markdown",
   "id": "3a927282-cf79-4d57-82cd-2d0ec0bf2ec8",
   "metadata": {},
   "source": [
    "finding the values of w and b which are proven to minimize the error"
   ]
  },
  {
   "cell_type": "code",
   "execution_count": 7,
   "id": "b021801f",
   "metadata": {},
   "outputs": [
    {
     "name": "stdout",
     "output_type": "stream",
     "text": [
      "model parameters:                   w: [110.11 -21.04 -32.45 -38.05], b:[363.13]\n",
      "model parameters from previous notebook: w: [110.56 -21.27 -32.71 -37.97], b: 363.16\n"
     ]
    }
   ],
   "source": [
    "b_norm = sgdr.intercept_\n",
    "w_norm = sgdr.coef_\n",
    "print(f\"model parameters:                   w: {w_norm}, b:{b_norm}\")\n",
    "print( \"model parameters from previous notebook: w: [110.56 -21.27 -32.71 -37.97], b: 363.16\")"
   ]
  },
  {
   "cell_type": "markdown",
   "id": "f6f46057-0d67-4571-b023-c8e08e92920c",
   "metadata": {},
   "source": [
    "almost same so both methods are correct"
   ]
  },
  {
   "cell_type": "markdown",
   "id": "cdfbb74c",
   "metadata": {},
   "source": [
    "### Make predictions\n",
    "Predict the targets of the training data. Use both the `predict` routine and compute using $w$ and $b$."
   ]
  },
  {
   "cell_type": "code",
   "execution_count": 11,
   "id": "33f84baa",
   "metadata": {},
   "outputs": [
    {
     "name": "stdout",
     "output_type": "stream",
     "text": [
      "prediction using np.dot() and sgdr.predict match: True\n",
      "Both are same so true\n",
      "\n",
      "Prediction on training set:\n",
      "[295.16 485.88 389.59 492.04]\n",
      "Target values \n",
      "[300.  509.8 394.  540. ]\n"
     ]
    }
   ],
   "source": [
    "# make a prediction using sgdr.predict()\n",
    "y_pred_sgd = sgdr.predict(X_norm)\n",
    "# make a prediction using w,b. \n",
    "# w*x + b\n",
    "y_pred = np.dot(X_norm, w_norm) + b_norm  \n",
    "print(f\"prediction using np.dot() and sgdr.predict match: {(y_pred == y_pred_sgd).all()}\")\n",
    "print(\"Both are same so true\\n\")\n",
    "print(f\"Prediction on training set:\\n{y_pred[:4]}\" )\n",
    "print(f\"Target values \\n{y_train[:4]}\")"
   ]
  },
  {
   "cell_type": "markdown",
   "id": "a5bfab9c",
   "metadata": {},
   "source": [
    "### Plot Results\n",
    "Let's plot the predictions versus the target values."
   ]
  },
  {
   "cell_type": "markdown",
   "id": "f8ea18b2-54f8-4d9d-a3b1-75a29f157378",
   "metadata": {},
   "source": [
    "fig is the entire plotting window.   (row)\n",
    "ax is the individual plot where the data is drawn.  (column, subplots)"
   ]
  },
  {
   "cell_type": "markdown",
   "id": "7825aea2-4317-47a7-be69-11b7cd711dca",
   "metadata": {},
   "source": [
    "the sharey parameter is used when creating subplots to indicate whether the y-axis should be shared among the subplots"
   ]
  },
  {
   "cell_type": "markdown",
   "id": "2ae23c74-7cd9-41e7-a445-12d39f54e380",
   "metadata": {},
   "source": [
    "in this case, len(ax) will be 4, corresponding to the 4 subplots created."
   ]
  },
  {
   "cell_type": "markdown",
   "id": "cf75d60a-6f29-4604-b9a5-1ee3d1814526",
   "metadata": {},
   "source": [
    "2 scatter plots are created in each subplot"
   ]
  },
  {
   "cell_type": "markdown",
   "id": "5db24294-8c44-42d7-9c49-853a74b22353",
   "metadata": {},
   "source": [
    "no. of plots == X_features"
   ]
  },
  {
   "cell_type": "markdown",
   "id": "7375ecea-1fd0-4c2a-b9e2-66eb5885fc39",
   "metadata": {},
   "source": [
    "suptitle is a method used to add a title to the entire figure, as opposed to title, "
   ]
  },
  {
   "cell_type": "code",
   "execution_count": 12,
   "id": "64350ede",
   "metadata": {},
   "outputs": [
    {
     "data": {
      "image/png": "[encoded data removed]",
      "text/plain": [
       "<Figure size 1200x300 with 4 Axes>"
      ]
     },
     "metadata": {},
     "output_type": "display_data"
    }
   ],
   "source": [
    "# plot predictions and targets vs original features    \n",
    "fig,ax=plt.subplots(1,4,figsize=(12,3),sharey=True)\n",
    "for i in range(len(ax)):\n",
    "    ax[i].scatter(X_train[:,i],y_train, label = 'target')\n",
    "    ax[i].set_xlabel(X_features[i])\n",
    "    ax[i].scatter(X_train[:,i],y_pred,color=dlc[\"dlorange\"], label = 'predict')\n",
    "ax[0].set_ylabel(\"Price\"); ax[0].legend();\n",
    "fig.suptitle(\"target versus prediction using z-score normalized model\")\n",
    "plt.show()"
   ]
  },
  {
   "cell_type": "markdown",
   "id": "b86d174c",
   "metadata": {},
   "source": [
    "## Congratulations!\n",
    "In this notebook we:\n",
    "- utilized an open-source machine learning toolkit, scikit-learn\n",
    "- implemented linear regression using gradient descent and feature normalization from that toolkit"
   ]
  },
  {
   "cell_type": "code",
   "execution_count": null,
   "id": "ac71f084",
   "metadata": {},
   "outputs": [],
   "source": []
  }
 ],
 "metadata": {
  "kernelspec": {
   "display_name": "Python 3 (ipykernel)",
   "language": "python",
   "name": "python3"
  },
  "language_info": {
   "codemirror_mode": {
    "name": "ipython",
    "version": 3
   },
   "file_extension": ".py",
   "mimetype": "text/x-python",
   "name": "python",
   "nbconvert_exporter": "python",
   "pygments_lexer": "ipython3",
   "version": "3.11.5"
  }
 },
 "nbformat": 4,
 "nbformat_minor": 5
}
